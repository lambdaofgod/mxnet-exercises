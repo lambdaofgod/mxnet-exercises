{
 "cells": [
  {
   "cell_type": "markdown",
   "metadata": {},
   "source": [
    "# Constants, sequences and random values - solutions"
   ]
  },
  {
   "cell_type": "code",
   "execution_count": 1,
   "metadata": {
    "collapsed": true
   },
   "outputs": [],
   "source": [
    "from __future__ import print_function\n",
    "import mxnet as mx \n",
    "import numpy as np"
   ]
  },
  {
   "cell_type": "code",
   "execution_count": 2,
   "metadata": {},
   "outputs": [
    {
     "data": {
      "text/plain": [
       "datetime.date(2017, 12, 25)"
      ]
     },
     "execution_count": 2,
     "metadata": {},
     "output_type": "execute_result"
    }
   ],
   "source": [
    "from datetime import date\n",
    "date.today()"
   ]
  },
  {
   "cell_type": "code",
   "execution_count": 3,
   "metadata": {
    "collapsed": true
   },
   "outputs": [],
   "source": [
    "author = \"lambdaofgod. adapted from https://github.com/Kyubyong/tensorflow-exercises\""
   ]
  },
  {
   "cell_type": "code",
   "execution_count": 4,
   "metadata": {},
   "outputs": [
    {
     "data": {
      "text/plain": [
       "'0.12.1'"
      ]
     },
     "execution_count": 4,
     "metadata": {},
     "output_type": "execute_result"
    }
   ],
   "source": [
    "mx.__version__"
   ]
  },
  {
   "cell_type": "code",
   "execution_count": 5,
   "metadata": {},
   "outputs": [
    {
     "data": {
      "text/plain": [
       "'1.12.1'"
      ]
     },
     "execution_count": 5,
     "metadata": {},
     "output_type": "execute_result"
    }
   ],
   "source": [
    "np.__version__"
   ]
  },
  {
   "cell_type": "markdown",
   "metadata": {},
   "source": [
    "NOTE on notation\n",
    "* _x, _y, _z, ...: NumPy 0-d or 1-d arrays\n",
    "* _X, _Y, _Z, ...: NumPy 2-d or higer dimensional arrays\n",
    "* x, y, z, ...: 0-d or 1-d tensors\n",
    "* X, Y, Z, ...: 2-d or higher dimensional tensors"
   ]
  },
  {
   "cell_type": "markdown",
   "metadata": {},
   "source": [
    "## Constant Value Tensors"
   ]
  },
  {
   "cell_type": "markdown",
   "metadata": {},
   "source": [
    "Q1. Create a tensor of the shape [2, 3] with all elements set to zero.\n"
   ]
  },
  {
   "cell_type": "code",
   "execution_count": 6,
   "metadata": {
    "collapsed": true
   },
   "outputs": [],
   "source": [
    "out = mx.nd.zeros([2, 3])\n",
    "assert np.allclose(out.asnumpy(), np.zeros([2, 3]))"
   ]
  },
  {
   "cell_type": "markdown",
   "metadata": {},
   "source": [
    "Q2. Let X be a tensor of [[1,2,3], [4,5,6]]. <br />Create a tensor of the same shape and dtype as X with all elements set to zero."
   ]
  },
  {
   "cell_type": "code",
   "execution_count": 7,
   "metadata": {},
   "outputs": [
    {
     "name": "stdout",
     "output_type": "stream",
     "text": [
      "\n",
      "[[ 0.  0.  0.]\n",
      " [ 0.  0.  0.]]\n",
      "<NDArray 2x3 @cpu(0)>\n"
     ]
    }
   ],
   "source": [
    "_X = np.array([[1,2,3], [4,5,6]])\n",
    "X = mx.nd.array(_X)\n",
    "out = mx.nd.zeros_like(X)\n",
    "print(out)\n",
    "assert np.allclose(out.asnumpy(), np.zeros_like(_X))"
   ]
  },
  {
   "cell_type": "markdown",
   "metadata": {},
   "source": [
    "Q3. Create a tensor of shape [2, 3] with all elements set to one."
   ]
  },
  {
   "cell_type": "code",
   "execution_count": 8,
   "metadata": {},
   "outputs": [
    {
     "name": "stdout",
     "output_type": "stream",
     "text": [
      "\n",
      "[[ 1.  1.  1.]\n",
      " [ 1.  1.  1.]]\n",
      "<NDArray 2x3 @cpu(0)>\n"
     ]
    }
   ],
   "source": [
    "out = mx.nd.ones([2, 3])\n",
    "print(out)\n",
    "assert np.allclose(out.asnumpy(), np.ones([2, 3]))"
   ]
  },
  {
   "cell_type": "markdown",
   "metadata": {},
   "source": [
    "Q4. Let X be a tensor of [[1,2,3], [4,5,6]]. <br />Create a tensor of the same shape and dtype as X with all elements set to one."
   ]
  },
  {
   "cell_type": "code",
   "execution_count": 9,
   "metadata": {},
   "outputs": [
    {
     "name": "stdout",
     "output_type": "stream",
     "text": [
      "\n",
      "[[ 1.  1.  1.]\n",
      " [ 1.  1.  1.]]\n",
      "<NDArray 2x3 @cpu(0)>\n"
     ]
    }
   ],
   "source": [
    "_X = np.array([[1,2,3], [4,5,6]])\n",
    "X = mx.nd.array(_X)\n",
    "out = mx.nd.ones_like(X)\n",
    "print(out)\n",
    "assert np.allclose(out.asnumpy(), np.ones_like(_X))\n",
    "# tf.ones_like == np.ones_like"
   ]
  },
  {
   "cell_type": "markdown",
   "metadata": {},
   "source": [
    "Q5. Create a tensor of the shape [3, 2], with all elements of 5."
   ]
  },
  {
   "cell_type": "code",
   "execution_count": 10,
   "metadata": {},
   "outputs": [
    {
     "name": "stdout",
     "output_type": "stream",
     "text": [
      "[[ 5.  5.]\n",
      " [ 5.  5.]\n",
      " [ 5.  5.]]\n"
     ]
    }
   ],
   "source": [
    "out1 = mx.nd.full([3, 2], 5)\n",
    "out2 = mx.nd.ones([3, 2]) * 5\n",
    "assert np.allclose(out1.asnumpy(), out2.asnumpy())\n",
    "print(out1.asnumpy())"
   ]
  },
  {
   "cell_type": "markdown",
   "metadata": {},
   "source": [
    "Q6. Create a constant tensor of [[1, 3, 5], [4, 6, 8]], with dtype=float32"
   ]
  },
  {
   "cell_type": "code",
   "execution_count": 11,
   "metadata": {},
   "outputs": [
    {
     "name": "stdout",
     "output_type": "stream",
     "text": [
      "[[ 1.  3.  5.]\n",
      " [ 4.  6.  8.]]\n"
     ]
    }
   ],
   "source": [
    "out = mx.nd.array([[1, 3, 5], [4, 6, 8]], dtype='float32')\n",
    "print(out.asnumpy())\n",
    "assert np.allclose(out.asnumpy(), np.array([[1, 3, 5], [4, 6, 8]], dtype=np.float32))"
   ]
  },
  {
   "cell_type": "markdown",
   "metadata": {},
   "source": [
    "Q7. Create a constant tensor of the shape [2, 3], with all elements set to 4."
   ]
  },
  {
   "cell_type": "code",
   "execution_count": 12,
   "metadata": {},
   "outputs": [
    {
     "name": "stdout",
     "output_type": "stream",
     "text": [
      "[[ 4.  4.  4.]\n",
      " [ 4.  4.  4.]]\n"
     ]
    }
   ],
   "source": [
    "out = mx.nd.full(val=4, shape=[2, 3])\n",
    "print(out.asnumpy())\n",
    "assert np.allclose(out.asnumpy(), np.full([2, 3], 4))"
   ]
  },
  {
   "cell_type": "markdown",
   "metadata": {},
   "source": [
    "## Sequences"
   ]
  },
  {
   "cell_type": "markdown",
   "metadata": {},
   "source": [
    "Q8. Create a 1-D tensor of 50 evenly spaced elements between 5 and 10 inclusive.\n",
    "\n",
    "This is equivalent to `np.linspace`. MXNet doesn't have such built-in functionality."
   ]
  },
  {
   "cell_type": "code",
   "execution_count": null,
   "metadata": {
    "collapsed": true
   },
   "outputs": [],
   "source": [
    "out = mx.nd.???(5., 10., 50)\n",
    "print(out.eval())\n",
    "assert np.allclose(out.eval(), np.linspace(5., 10., 50))\n",
    "# tf.linspace == np.linspace"
   ]
  },
  {
   "cell_type": "markdown",
   "metadata": {},
   "source": [
    "Q9. Create a tensor which looks like [10, 12, 14, 16, ..., 100]."
   ]
  },
  {
   "cell_type": "code",
   "execution_count": 14,
   "metadata": {},
   "outputs": [
    {
     "name": "stdout",
     "output_type": "stream",
     "text": [
      "[  10.   12.   14.   16.   18.   20.   22.   24.   26.   28.   30.   32.\n",
      "   34.   36.   38.   40.   42.   44.   46.   48.   50.   52.   54.   56.\n",
      "   58.   60.   62.   64.   66.   68.   70.   72.   74.   76.   78.   80.\n",
      "   82.   84.   86.   88.   90.   92.   94.   96.   98.  100.]\n"
     ]
    }
   ],
   "source": [
    "out = mx.nd.arange(10, 101, 2)\n",
    "print(out.asnumpy())\n",
    "assert np.allclose(out.asnumpy(), np.arange(10, 101, 2))"
   ]
  },
  {
   "cell_type": "markdown",
   "metadata": {},
   "source": [
    "## Random Tensors"
   ]
  },
  {
   "cell_type": "markdown",
   "metadata": {},
   "source": [
    "Q10. Create a random tensor of the shape [3, 2], with elements from a normal distribution of mean=0, standard deviation=2."
   ]
  },
  {
   "cell_type": "code",
   "execution_count": 15,
   "metadata": {},
   "outputs": [
    {
     "name": "stdout",
     "output_type": "stream",
     "text": [
      "[[ 0.60061508  0.4621447 ]\n",
      " [ 2.09865785 -0.64867866]\n",
      " [-0.0195776   1.47372472]]\n"
     ]
    }
   ],
   "source": [
    "X = mx.nd.random_normal(shape=[3, 2], loc=0, scale=2.)\n",
    "print(X.asnumpy())\n",
    "# mx.nd.random_normal is almost equivalent to np.random.normal\n",
    "# But the order of the arguments is differnt.\n",
    "# _X = np.random.normal(0, 2., [3, 2])\n"
   ]
  },
  {
   "cell_type": "markdown",
   "metadata": {},
   "source": [
    "Q11. Create a random tensor of the shape [3, 2], with elements from a normal distribution of mean=0, standard deviation=1 such that any values don't exceed 2 standard deviations from the mean."
   ]
  },
  {
   "cell_type": "code",
   "execution_count": 21,
   "metadata": {},
   "outputs": [
    {
     "name": "stdout",
     "output_type": "stream",
     "text": [
      "[[-0.43647185 -0.011113  ]\n",
      " [ 0.48286641  0.53347087]\n",
      " [-0.11204046  0.07230883]]\n"
     ]
    }
   ],
   "source": [
    "out = (\n",
    "  mx.nd.clip(\n",
    "    mx.nd.random_normal(shape=[3, 2]),\n",
    "    a_max=2,\n",
    "    a_min=-2)\n",
    ")\n",
    "print(out.asnumpy())"
   ]
  },
  {
   "cell_type": "markdown",
   "metadata": {},
   "source": [
    "Q12. Create a random tensor of the shape [3, 2], with all elements from a uniform distribution that ranges from 0 to 2 (exclusive)."
   ]
  },
  {
   "cell_type": "code",
   "execution_count": 17,
   "metadata": {},
   "outputs": [
    {
     "name": "stdout",
     "output_type": "stream",
     "text": [
      "[[ 1.51974213  1.48588109]\n",
      " [ 1.52398443  1.6801821 ]\n",
      " [ 1.47731388  1.64930928]]\n"
     ]
    }
   ],
   "source": [
    "out = mx.nd.random_uniform(shape=[3, 2], low=0, high=2)\n",
    "print(out.asnumpy())\n",
    "# mx.nd.random_uniform is almost equivalent to np.random.uniform\n",
    "# But the order of the arguments is differnt.\n",
    "# _X = np.random.uniform(0, 2., [3, 2])"
   ]
  },
  {
   "cell_type": "markdown",
   "metadata": {},
   "source": [
    "#### These last 2 exercises could be dropped - there are no such built-in functions in MXNet.\n",
    "\n",
    "Q13. Let X be a tensor of [[1, 2], [3, 4], [5, 6]]. Shuffle X along its first dimension."
   ]
  },
  {
   "cell_type": "code",
   "execution_count": null,
   "metadata": {
    "collapsed": true
   },
   "outputs": [],
   "source": [
    "_X = np.array([[1, 2], [3, 4], [5, 6]])\n",
    "X = mx.nd.array(_X)\n",
    "out = mx.nd.random_shuffle(X)\n",
    "print(out.asnumpy())\n",
    "# mx.nd.random_shuffle() is not a in-place function unlike np.random_shuffle().\n",
    "# np.random.shuffle(_X)\n",
    "# print(_X)"
   ]
  },
  {
   "cell_type": "markdown",
   "metadata": {},
   "source": [
    "Q14. Let X be a random tensor of the shape [10, 10, 3], with elements from a unit normal distribution. Crop X with the shape of [5, 5, 3]."
   ]
  },
  {
   "cell_type": "code",
   "execution_count": null,
   "metadata": {
    "collapsed": true
   },
   "outputs": [],
   "source": [
    "X = tf.random_normal([10, 10, 3])\n",
    "out = tf.random_crop(X, [5, 5, 3])\n",
    "print(out.eval())"
   ]
  }
 ],
 "metadata": {
  "anaconda-cloud": {},
  "hide_input": false,
  "kernelspec": {
   "display_name": "Python 3",
   "language": "python",
   "name": "python3"
  },
  "language_info": {
   "codemirror_mode": {
    "name": "ipython",
    "version": 3
   },
   "file_extension": ".py",
   "mimetype": "text/x-python",
   "name": "python",
   "nbconvert_exporter": "python",
   "pygments_lexer": "ipython3",
   "version": "3.5.3"
  }
 },
 "nbformat": 4,
 "nbformat_minor": 1
}
