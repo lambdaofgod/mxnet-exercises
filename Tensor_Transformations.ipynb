{
 "cells": [
  {
   "cell_type": "markdown",
   "metadata": {},
   "source": [
    "# Tensor Transformations\n",
    "\n",
    "[Solutions](Tensor_Transformations_Solutions.ipynb)"
   ]
  },
  {
   "cell_type": "code",
   "execution_count": 1,
   "metadata": {
    "collapsed": true
   },
   "outputs": [],
   "source": [
    "from __future__ import print_function\n",
    "import mxnet\n",
    "from mxnet import nd\n",
    "import numpy as np"
   ]
  },
  {
   "cell_type": "code",
   "execution_count": 2,
   "metadata": {},
   "outputs": [
    {
     "data": {
      "text/plain": [
       "datetime.date(2017, 12, 28)"
      ]
     },
     "execution_count": 2,
     "metadata": {},
     "output_type": "execute_result"
    }
   ],
   "source": [
    "from datetime import date\n",
    "date.today()"
   ]
  },
  {
   "cell_type": "code",
   "execution_count": 3,
   "metadata": {
    "collapsed": true
   },
   "outputs": [],
   "source": [
    "author = \"lambdaofgod. based on https://github.com/Kyubyong/tensorflow-exercises\""
   ]
  },
  {
   "cell_type": "code",
   "execution_count": 4,
   "metadata": {},
   "outputs": [
    {
     "data": {
      "text/plain": [
       "'1.0.0'"
      ]
     },
     "execution_count": 4,
     "metadata": {},
     "output_type": "execute_result"
    }
   ],
   "source": [
    "mxnet.__version__"
   ]
  },
  {
   "cell_type": "code",
   "execution_count": 5,
   "metadata": {},
   "outputs": [
    {
     "data": {
      "text/plain": [
       "'1.12.1'"
      ]
     },
     "execution_count": 5,
     "metadata": {},
     "output_type": "execute_result"
    }
   ],
   "source": [
    "np.__version__"
   ]
  },
  {
   "cell_type": "markdown",
   "metadata": {},
   "source": [
    "NOTE on notation\n",
    "* _x, _y, _z, ...: NumPy 0-d or 1-d arrays\n",
    "* _X, _Y, _Z, ...: NumPy 2-d or higer dimensional arrays\n",
    "* x, y, z, ...: 0-d or 1-d tensors\n",
    "* X, Y, Z, ...: 2-d or higher dimensional tensors"
   ]
  },
  {
   "cell_type": "markdown",
   "metadata": {},
   "source": [
    "## Casting"
   ]
  },
  {
   "cell_type": "markdown",
   "metadata": {},
   "source": [
    "Q1. Let X be a tensor of [[\"1.1\", \"2.2\"], [\"3.3\", \"4.4\"]]. Convert the datatype of X to float32."
   ]
  },
  {
   "cell_type": "code",
   "execution_count": 6,
   "metadata": {},
   "outputs": [
    {
     "name": "stdout",
     "output_type": "stream",
     "text": [
      "\n",
      "[[ 1.10000002  2.20000005]\n",
      " [ 3.29999995  4.4000001 ]]\n",
      "<NDArray 2x2 @cpu(0)>\n"
     ]
    }
   ],
   "source": [
    "_X = np.array([[\"1.1\", \"2.2\"], [\"3.3\", \"4.4\"]])\n",
    "out = ???\n",
    "print(out)\n",
    "assert np.allclose(out.asnumpy(), _X.astype(np.float32))"
   ]
  },
  {
   "cell_type": "markdown",
   "metadata": {},
   "source": [
    "Q2. Let X be a tensor [[1, 2], [3, 4]] of int32. Convert the data type of X to float64."
   ]
  },
  {
   "cell_type": "code",
   "execution_count": 7,
   "metadata": {},
   "outputs": [
    {
     "name": "stdout",
     "output_type": "stream",
     "text": [
      "[[ 1.  2.]\n",
      " [ 3.  4.]]\n"
     ]
    }
   ],
   "source": [
    "_X = np.array([[1, 2], [3, 4]], dtype=np.int32)\n",
    "out1 = ???\n",
    "out2 = ???\n",
    "assert np.allclose(out1.asnumpy(), out2.asnumpy())\n",
    "print(out1.asnumpy())\n",
    "assert np.allclose(out1.asnumpy(), _X.astype(np.float64))"
   ]
  },
  {
   "cell_type": "markdown",
   "metadata": {},
   "source": [
    "Q3. Let X be a tensor [[1, 2], [3, 4]] of int32. Convert the data type of X to float32."
   ]
  },
  {
   "cell_type": "code",
   "execution_count": 8,
   "metadata": {},
   "outputs": [
    {
     "name": "stdout",
     "output_type": "stream",
     "text": [
      "[[ 1.  2.]\n",
      " [ 3.  4.]]\n"
     ]
    }
   ],
   "source": [
    "_X = np.array([[1, 2], [3, 4]], dtype=np.int32)\n",
    "out1 = ???\n",
    "out2 = ???\n",
    "assert np.allclose(out1.asnumpy(), out2.asnumpy())\n",
    "print(out1.asnumpy())\n",
    "assert np.allclose(out1.asnumpy(), _X.astype(np.float32))"
   ]
  },
  {
   "cell_type": "markdown",
   "metadata": {},
   "source": [
    "Q4. Let X be a tensor [[1, 2], [3, 4]] of float32. Convert the data type of X to int32."
   ]
  },
  {
   "cell_type": "code",
   "execution_count": 9,
   "metadata": {},
   "outputs": [
    {
     "name": "stdout",
     "output_type": "stream",
     "text": [
      "[[1 2]\n",
      " [3 4]]\n"
     ]
    }
   ],
   "source": [
    "_X = np.array([[1, 2], [3, 4]], dtype=np.float32)\n",
    "out1 = ???\n",
    "assert np.allclose(out1.asnumpy(), _X)\n",
    "print(out1.asnumpy())"
   ]
  },
  {
   "cell_type": "markdown",
   "metadata": {},
   "source": [
    "Q5. Let X be a tensor [[1, 2], [3, 4]] of float32. Convert the data type of X to int64."
   ]
  },
  {
   "cell_type": "code",
   "execution_count": 10,
   "metadata": {},
   "outputs": [
    {
     "name": "stdout",
     "output_type": "stream",
     "text": [
      "[[1 2]\n",
      " [3 4]]\n"
     ]
    }
   ],
   "source": [
    "_X = np.array([[1, 2], [3, 4]], dtype=np.float32)\n",
    "out1 = ???\n",
    "assert np.allclose(out1.asnumpy(), _X)\n",
    "print(out1.asnumpy())"
   ]
  },
  {
   "cell_type": "markdown",
   "metadata": {},
   "source": [
    "## Slicing and Joining"
   ]
  },
  {
   "cell_type": "markdown",
   "metadata": {},
   "source": [
    "Q6. Let X be a tensor<br/>\n",
    "[[[1, 1, 1], [2, 2, 2]],<br/>\n",
    "[[3, 3, 3], [4, 4, 4]],<br/>\n",
    "[[5, 5, 5], [6, 6, 6]]].<br/>\n",
    "Extract the [[[3, 3, 3], [5, 5, 5]] from X."
   ]
  },
  {
   "cell_type": "code",
   "execution_count": 17,
   "metadata": {},
   "outputs": [
    {
     "name": "stdout",
     "output_type": "stream",
     "text": [
      "\n",
      "[[ 3.  3.  3.]\n",
      " [ 5.  5.  5.]]\n",
      "<NDArray 2x3 @cpu(0)>\n"
     ]
    }
   ],
   "source": [
    "_X = np.array([[[1, 1, 1], \n",
    "                 [2, 2, 2]],\n",
    "                [[3, 3, 3], \n",
    "                 [4, 4, 4]],\n",
    "                [[5, 5, 5], \n",
    "                 [6, 6, 6]]])\n",
    "X = nd.array(_X)\n",
    "out = ??? \n",
    "print(out)"
   ]
  },
  {
   "cell_type": "markdown",
   "metadata": {},
   "source": [
    "Q7. Let X be a tensor of<br/>\n",
    "[[ 1  2]<br />\n",
    " [ 3  4]<br />\n",
    " [ 5  6]<br />\n",
    " [ 7  8]<br />\n",
    " [ 9 10]].<br />\n",
    " Extract the [[1, 2], [5, 6], [9, 10]]] from X.\n",
    " "
   ]
  },
  {
   "cell_type": "code",
   "execution_count": 5,
   "metadata": {},
   "outputs": [
    {
     "name": "stdout",
     "output_type": "stream",
     "text": [
      "\n",
      "[[  1.   2.]\n",
      " [  5.   6.]\n",
      " [  9.  10.]]\n",
      "<NDArray 3x2 @cpu(0)>\n"
     ]
    }
   ],
   "source": [
    "_X = np.arange(1, 11).reshape([5, 2])\n",
    "X = nd.array(_X)\n",
    "out = ??? \n",
    "print(out)\n",
    "assert np.allclose(out.asnumpy(), _X[[0, 2, 4]])"
   ]
  },
  {
   "cell_type": "markdown",
   "metadata": {},
   "source": [
    "Q7. Let X be a tensor of<br/>\n",
    "[[ 1  2  3  4  5]<br />\n",
    " [ 6  7  8  9  10]].<br />\n",
    "Split X into 5 same-sized tensors along the second dimension."
   ]
  },
  {
   "cell_type": "code",
   "execution_count": 25,
   "metadata": {},
   "outputs": [
    {
     "name": "stdout",
     "output_type": "stream",
     "text": [
      "[\n",
      "[[ 1.]\n",
      " [ 6.]]\n",
      "<NDArray 2x1 @cpu(0)>, \n",
      "[[ 2.]\n",
      " [ 7.]]\n",
      "<NDArray 2x1 @cpu(0)>, \n",
      "[[ 3.]\n",
      " [ 8.]]\n",
      "<NDArray 2x1 @cpu(0)>, \n",
      "[[ 4.]\n",
      " [ 9.]]\n",
      "<NDArray 2x1 @cpu(0)>, \n",
      "[[  5.]\n",
      " [ 10.]]\n",
      "<NDArray 2x1 @cpu(0)>]\n"
     ]
    }
   ],
   "source": [
    "_X = np.arange(1, 11).reshape([2, 5])\n",
    "X = nd.array(_X)\n",
    "out = ???\n",
    "print(out)\n",
    "comp = np.array_split(_X, 5, 1) \n",
    "assert np.allclose([each.asnumpy() for each in out], comp)"
   ]
  },
  {
   "cell_type": "markdown",
   "metadata": {},
   "source": [
    "Q8. Lex X be a tensor<br/>\n",
    "[[ 1 2 3]<br/>\n",
    " [ 4 5 6].<br/>\n",
    "Create a tensor looking like <br/>\n",
    "[[ 1 2 3 1 2 3 1 2 3 ]<br/>\n",
    " [ 4 5 6 4 5 6 4 5 6 ]]."
   ]
  },
  {
   "cell_type": "code",
   "execution_count": 28,
   "metadata": {},
   "outputs": [
    {
     "name": "stdout",
     "output_type": "stream",
     "text": [
      "\n",
      "[[ 1.  2.  3.  1.  2.  3.  1.  2.  3.]\n",
      " [ 4.  5.  6.  4.  5.  6.  4.  5.  6.]]\n",
      "<NDArray 2x9 @cpu(0)>\n"
     ]
    }
   ],
   "source": [
    "_X = np.arange(1, 7).reshape((2, 3))\n",
    "X = nd.array(_X)\n",
    "out = ??? \n",
    "print(out)\n",
    "assert np.allclose(out.asnumpy(), np.tile(_X, [1, 3]))"
   ]
  },
  {
   "cell_type": "markdown",
   "metadata": {},
   "source": [
    "Q9. Let X be a tensor <br/>\n",
    "[[ 1 2 3]<br/>\n",
    " [ 4 5 6].<br/>\n",
    "Pad 2 * 0's before the first dimension, 3 * 0's after the second dimension.\n",
    "\n",
    "**Unsuported** as of 0.12. You'd get `Current implementation only supports 4-D or 5-D input.` for the appropriate method."
   ]
  },
  {
   "cell_type": "code",
   "execution_count": 34,
   "metadata": {},
   "outputs": [
    {
     "ename": "MXNetError",
     "evalue": "[13:49:48] src/operator/./pad-inl.h:204: Current implementation only supports 4-D or 5-D input.\n\nStack trace returned 10 entries:\n[bt] (0) /opt/anaconda3/envs/nnets/lib/python3.5/site-packages/mxnet/libmxnet.so(_ZN4dmlc15LogMessageFatalD1Ev+0x29) [0x7f8b11431749]\n[bt] (1) /opt/anaconda3/envs/nnets/lib/python3.5/site-packages/mxnet/libmxnet.so(_ZNK5mxnet2op7PadProp10InferShapeEPSt6vectorIN4nnvm6TShapeESaIS4_EES7_S7_+0x189) [0x7f8b1369a079]\n[bt] (2) /opt/anaconda3/envs/nnets/lib/python3.5/site-packages/mxnet/libmxnet.so(+0x23fe202) [0x7f8b13509202]\n[bt] (3) /opt/anaconda3/envs/nnets/lib/python3.5/site-packages/mxnet/libmxnet.so(_ZN5mxnet10imperative12SetShapeTypeERKNS_7ContextERKN4nnvm9NodeAttrsERKSt6vectorIPNS_7NDArrayESaISA_EESE_PNS_12DispatchModeE+0x98d) [0x7f8b1357786d]\n[bt] (4) /opt/anaconda3/envs/nnets/lib/python3.5/site-packages/mxnet/libmxnet.so(_ZN5mxnet10Imperative6InvokeERKNS_7ContextERKN4nnvm9NodeAttrsERKSt6vectorIPNS_7NDArrayESaISA_EESE_+0x308) [0x7f8b1355df98]\n[bt] (5) /opt/anaconda3/envs/nnets/lib/python3.5/site-packages/mxnet/libmxnet.so(_Z22MXImperativeInvokeImplPviPS_PiPS0_iPPKcS5_+0x16e) [0x7f8b1399f46e]\n[bt] (6) /opt/anaconda3/envs/nnets/lib/python3.5/site-packages/mxnet/libmxnet.so(MXImperativeInvokeEx+0x5b) [0x7f8b1399ff4b]\n[bt] (7) /opt/anaconda3/envs/nnets/lib/python3.5/lib-dynload/_ctypes.cpython-35m-x86_64-linux-gnu.so(ffi_call_unix64+0x4c) [0x7f8b38a46540]\n[bt] (8) /opt/anaconda3/envs/nnets/lib/python3.5/lib-dynload/_ctypes.cpython-35m-x86_64-linux-gnu.so(ffi_call+0x1f5) [0x7f8b38a45ce5]\n[bt] (9) /opt/anaconda3/envs/nnets/lib/python3.5/lib-dynload/_ctypes.cpython-35m-x86_64-linux-gnu.so(_ctypes_callproc+0x3dc) [0x7f8b38a3d7fc]\n",
     "output_type": "error",
     "traceback": [
      "\u001b[0;31m---------------------------------------------------------------------------\u001b[0m",
      "\u001b[0;31mMXNetError\u001b[0m                                Traceback (most recent call last)",
      "\u001b[0;32m<ipython-input-34-515016354d02>\u001b[0m in \u001b[0;36m<module>\u001b[0;34m()\u001b[0m\n\u001b[1;32m      1\u001b[0m \u001b[0m_X\u001b[0m \u001b[0;34m=\u001b[0m \u001b[0mnp\u001b[0m\u001b[0;34m.\u001b[0m\u001b[0marange\u001b[0m\u001b[0;34m(\u001b[0m\u001b[0;36m1\u001b[0m\u001b[0;34m,\u001b[0m \u001b[0;36m7\u001b[0m\u001b[0;34m)\u001b[0m\u001b[0;34m.\u001b[0m\u001b[0mreshape\u001b[0m\u001b[0;34m(\u001b[0m\u001b[0;34m(\u001b[0m\u001b[0;36m2\u001b[0m\u001b[0;34m,\u001b[0m \u001b[0;36m3\u001b[0m\u001b[0;34m)\u001b[0m\u001b[0;34m)\u001b[0m\u001b[0;34m\u001b[0m\u001b[0m\n\u001b[1;32m      2\u001b[0m \u001b[0mX\u001b[0m \u001b[0;34m=\u001b[0m \u001b[0mnd\u001b[0m\u001b[0;34m.\u001b[0m\u001b[0marray\u001b[0m\u001b[0;34m(\u001b[0m\u001b[0m_X\u001b[0m\u001b[0;34m)\u001b[0m\u001b[0;34m\u001b[0m\u001b[0m\n\u001b[0;32m----> 3\u001b[0;31m \u001b[0mout\u001b[0m \u001b[0;34m=\u001b[0m \u001b[0mnd\u001b[0m\u001b[0;34m.\u001b[0m\u001b[0mpad\u001b[0m\u001b[0;34m(\u001b[0m\u001b[0mX\u001b[0m\u001b[0;34m,\u001b[0m \u001b[0mmode\u001b[0m\u001b[0;34m=\u001b[0m\u001b[0;34m'constant'\u001b[0m\u001b[0;34m,\u001b[0m \u001b[0mconstant_value\u001b[0m\u001b[0;34m=\u001b[0m\u001b[0;36m0\u001b[0m\u001b[0;34m,\u001b[0m \u001b[0mpad_width\u001b[0m\u001b[0;34m=\u001b[0m\u001b[0;34m(\u001b[0m\u001b[0;36m2\u001b[0m\u001b[0;34m,\u001b[0m \u001b[0;36m0\u001b[0m\u001b[0;34m,\u001b[0m \u001b[0;36m0\u001b[0m\u001b[0;34m,\u001b[0m \u001b[0;36m3\u001b[0m\u001b[0;34m)\u001b[0m\u001b[0;34m)\u001b[0m\u001b[0;34m\u001b[0m\u001b[0m\n\u001b[0m\u001b[1;32m      4\u001b[0m \u001b[0mprint\u001b[0m\u001b[0;34m(\u001b[0m\u001b[0mout\u001b[0m\u001b[0;34m)\u001b[0m\u001b[0;34m\u001b[0m\u001b[0m\n\u001b[1;32m      5\u001b[0m \u001b[0;32massert\u001b[0m \u001b[0mnp\u001b[0m\u001b[0;34m.\u001b[0m\u001b[0mallclose\u001b[0m\u001b[0;34m(\u001b[0m\u001b[0mout\u001b[0m\u001b[0;34m.\u001b[0m\u001b[0masnumpy\u001b[0m\u001b[0;34m(\u001b[0m\u001b[0;34m)\u001b[0m\u001b[0;34m,\u001b[0m \u001b[0mnp\u001b[0m\u001b[0;34m.\u001b[0m\u001b[0mpad\u001b[0m\u001b[0;34m(\u001b[0m\u001b[0m_X\u001b[0m\u001b[0;34m,\u001b[0m \u001b[0;34m[\u001b[0m\u001b[0;34m[\u001b[0m\u001b[0;36m2\u001b[0m\u001b[0;34m,\u001b[0m \u001b[0;36m0\u001b[0m\u001b[0;34m]\u001b[0m\u001b[0;34m,\u001b[0m \u001b[0;34m[\u001b[0m\u001b[0;36m0\u001b[0m\u001b[0;34m,\u001b[0m \u001b[0;36m3\u001b[0m\u001b[0;34m]\u001b[0m\u001b[0;34m]\u001b[0m\u001b[0;34m,\u001b[0m \u001b[0;34m'constant'\u001b[0m\u001b[0;34m,\u001b[0m \u001b[0mconstant_values\u001b[0m\u001b[0;34m=\u001b[0m\u001b[0;34m[\u001b[0m\u001b[0;36m0\u001b[0m\u001b[0;34m,\u001b[0m \u001b[0;36m0\u001b[0m\u001b[0;34m]\u001b[0m\u001b[0;34m)\u001b[0m\u001b[0;34m)\u001b[0m\u001b[0;34m\u001b[0m\u001b[0m\n",
      "\u001b[0;32m/opt/anaconda3/envs/nnets/lib/python3.5/site-packages/mxnet/ndarray/register.py\u001b[0m in \u001b[0;36mpad\u001b[0;34m(data, mode, pad_width, constant_value, out, name, **kwargs)\u001b[0m\n",
      "\u001b[0;32m/opt/anaconda3/envs/nnets/lib/python3.5/site-packages/mxnet/_ctypes/ndarray.py\u001b[0m in \u001b[0;36m_imperative_invoke\u001b[0;34m(handle, ndargs, keys, vals, out)\u001b[0m\n\u001b[1;32m     90\u001b[0m         \u001b[0mc_array\u001b[0m\u001b[0;34m(\u001b[0m\u001b[0mctypes\u001b[0m\u001b[0;34m.\u001b[0m\u001b[0mc_char_p\u001b[0m\u001b[0;34m,\u001b[0m \u001b[0;34m[\u001b[0m\u001b[0mc_str\u001b[0m\u001b[0;34m(\u001b[0m\u001b[0mkey\u001b[0m\u001b[0;34m)\u001b[0m \u001b[0;32mfor\u001b[0m \u001b[0mkey\u001b[0m \u001b[0;32min\u001b[0m \u001b[0mkeys\u001b[0m\u001b[0;34m]\u001b[0m\u001b[0;34m)\u001b[0m\u001b[0;34m,\u001b[0m\u001b[0;34m\u001b[0m\u001b[0m\n\u001b[1;32m     91\u001b[0m         \u001b[0mc_array\u001b[0m\u001b[0;34m(\u001b[0m\u001b[0mctypes\u001b[0m\u001b[0;34m.\u001b[0m\u001b[0mc_char_p\u001b[0m\u001b[0;34m,\u001b[0m \u001b[0;34m[\u001b[0m\u001b[0mc_str\u001b[0m\u001b[0;34m(\u001b[0m\u001b[0mstr\u001b[0m\u001b[0;34m(\u001b[0m\u001b[0mval\u001b[0m\u001b[0;34m)\u001b[0m\u001b[0;34m)\u001b[0m \u001b[0;32mfor\u001b[0m \u001b[0mval\u001b[0m \u001b[0;32min\u001b[0m \u001b[0mvals\u001b[0m\u001b[0;34m]\u001b[0m\u001b[0;34m)\u001b[0m\u001b[0;34m,\u001b[0m\u001b[0;34m\u001b[0m\u001b[0m\n\u001b[0;32m---> 92\u001b[0;31m         ctypes.byref(out_stypes)))\n\u001b[0m\u001b[1;32m     93\u001b[0m \u001b[0;34m\u001b[0m\u001b[0m\n\u001b[1;32m     94\u001b[0m     \u001b[0;32mif\u001b[0m \u001b[0moriginal_output\u001b[0m \u001b[0;32mis\u001b[0m \u001b[0;32mnot\u001b[0m \u001b[0;32mNone\u001b[0m\u001b[0;34m:\u001b[0m\u001b[0;34m\u001b[0m\u001b[0m\n",
      "\u001b[0;32m/opt/anaconda3/envs/nnets/lib/python3.5/site-packages/mxnet/base.py\u001b[0m in \u001b[0;36mcheck_call\u001b[0;34m(ret)\u001b[0m\n\u001b[1;32m    144\u001b[0m     \"\"\"\n\u001b[1;32m    145\u001b[0m     \u001b[0;32mif\u001b[0m \u001b[0mret\u001b[0m \u001b[0;34m!=\u001b[0m \u001b[0;36m0\u001b[0m\u001b[0;34m:\u001b[0m\u001b[0;34m\u001b[0m\u001b[0m\n\u001b[0;32m--> 146\u001b[0;31m         \u001b[0;32mraise\u001b[0m \u001b[0mMXNetError\u001b[0m\u001b[0;34m(\u001b[0m\u001b[0mpy_str\u001b[0m\u001b[0;34m(\u001b[0m\u001b[0m_LIB\u001b[0m\u001b[0;34m.\u001b[0m\u001b[0mMXGetLastError\u001b[0m\u001b[0;34m(\u001b[0m\u001b[0;34m)\u001b[0m\u001b[0;34m)\u001b[0m\u001b[0;34m)\u001b[0m\u001b[0;34m\u001b[0m\u001b[0m\n\u001b[0m\u001b[1;32m    147\u001b[0m \u001b[0;34m\u001b[0m\u001b[0m\n\u001b[1;32m    148\u001b[0m \u001b[0;32mif\u001b[0m \u001b[0msys\u001b[0m\u001b[0;34m.\u001b[0m\u001b[0mversion_info\u001b[0m\u001b[0;34m[\u001b[0m\u001b[0;36m0\u001b[0m\u001b[0;34m]\u001b[0m \u001b[0;34m<\u001b[0m \u001b[0;36m3\u001b[0m\u001b[0;34m:\u001b[0m\u001b[0;34m\u001b[0m\u001b[0m\n",
      "\u001b[0;31mMXNetError\u001b[0m: [13:49:48] src/operator/./pad-inl.h:204: Current implementation only supports 4-D or 5-D input.\n\nStack trace returned 10 entries:\n[bt] (0) /opt/anaconda3/envs/nnets/lib/python3.5/site-packages/mxnet/libmxnet.so(_ZN4dmlc15LogMessageFatalD1Ev+0x29) [0x7f8b11431749]\n[bt] (1) /opt/anaconda3/envs/nnets/lib/python3.5/site-packages/mxnet/libmxnet.so(_ZNK5mxnet2op7PadProp10InferShapeEPSt6vectorIN4nnvm6TShapeESaIS4_EES7_S7_+0x189) [0x7f8b1369a079]\n[bt] (2) /opt/anaconda3/envs/nnets/lib/python3.5/site-packages/mxnet/libmxnet.so(+0x23fe202) [0x7f8b13509202]\n[bt] (3) /opt/anaconda3/envs/nnets/lib/python3.5/site-packages/mxnet/libmxnet.so(_ZN5mxnet10imperative12SetShapeTypeERKNS_7ContextERKN4nnvm9NodeAttrsERKSt6vectorIPNS_7NDArrayESaISA_EESE_PNS_12DispatchModeE+0x98d) [0x7f8b1357786d]\n[bt] (4) /opt/anaconda3/envs/nnets/lib/python3.5/site-packages/mxnet/libmxnet.so(_ZN5mxnet10Imperative6InvokeERKNS_7ContextERKN4nnvm9NodeAttrsERKSt6vectorIPNS_7NDArrayESaISA_EESE_+0x308) [0x7f8b1355df98]\n[bt] (5) /opt/anaconda3/envs/nnets/lib/python3.5/site-packages/mxnet/libmxnet.so(_Z22MXImperativeInvokeImplPviPS_PiPS0_iPPKcS5_+0x16e) [0x7f8b1399f46e]\n[bt] (6) /opt/anaconda3/envs/nnets/lib/python3.5/site-packages/mxnet/libmxnet.so(MXImperativeInvokeEx+0x5b) [0x7f8b1399ff4b]\n[bt] (7) /opt/anaconda3/envs/nnets/lib/python3.5/lib-dynload/_ctypes.cpython-35m-x86_64-linux-gnu.so(ffi_call_unix64+0x4c) [0x7f8b38a46540]\n[bt] (8) /opt/anaconda3/envs/nnets/lib/python3.5/lib-dynload/_ctypes.cpython-35m-x86_64-linux-gnu.so(ffi_call+0x1f5) [0x7f8b38a45ce5]\n[bt] (9) /opt/anaconda3/envs/nnets/lib/python3.5/lib-dynload/_ctypes.cpython-35m-x86_64-linux-gnu.so(_ctypes_callproc+0x3dc) [0x7f8b38a3d7fc]\n"
     ]
    }
   ],
   "source": [
    "_X = np.arange(1, 7).reshape((2, 3))\n",
    "X = nd.array(_X)\n",
    "out = ???\n",
    "print(out)\n",
    "assert np.allclose(out.asnumpy(), np.pad(_X, [[2, 0], [0, 3]], 'constant', constant_values=[0, 0]))"
   ]
  },
  {
   "cell_type": "markdown",
   "metadata": {},
   "source": [
    "Q10. Let X be a tensor <br/>\n",
    "[[ 1 2 3]<br/>\n",
    " [ 4 5 6].<br/>\n",
    "and Y be a tensor<br/>\n",
    "[[ 7 8 9]<br/>\n",
    " [10 11 12]].<br/>\n",
    "Concatenate X and Y so that the new tensor looks like [[1, 2, 3, 7, 8, 9], [4, 5, 6, 10, 11, 12]]."
   ]
  },
  {
   "cell_type": "code",
   "execution_count": 43,
   "metadata": {},
   "outputs": [
    {
     "name": "stdout",
     "output_type": "stream",
     "text": [
      "\n",
      "[[  1.   2.   3.   7.   8.   9.]\n",
      " [  4.   5.   6.  10.  11.  12.]]\n",
      "<NDArray 2x6 @cpu(0)>\n"
     ]
    }
   ],
   "source": [
    "_X = np.array([[1, 2, 3], [4, 5, 6]])\n",
    "_Y = np.array([[7, 8, 9], [10, 11, 12]])\n",
    "X = nd.array(_X)\n",
    "Y = nd.array(_Y)\n",
    "out = ??? \n",
    "print(out)\n",
    "assert np.allclose(out.asnumpy(), np.concatenate((_X, _Y), 1))"
   ]
  },
  {
   "cell_type": "markdown",
   "metadata": {},
   "source": [
    "Q11. Let x, y, and z be tensors [1, 4], [2, 5], and [3, 6], respectively. <br/>Create a single tensor from these such that it looks [[1, 2, 3], [4, 5, 6]]."
   ]
  },
  {
   "cell_type": "code",
   "execution_count": 44,
   "metadata": {},
   "outputs": [
    {
     "name": "stdout",
     "output_type": "stream",
     "text": [
      "\n",
      "[[ 1.  2.  3.]\n",
      " [ 4.  5.  6.]]\n",
      "<NDArray 2x3 @cpu(0)>\n"
     ]
    }
   ],
   "source": [
    "x = nd.array([1, 4])\n",
    "y = nd.array([2, 5])\n",
    "z = nd.array([3, 6])\n",
    "out = ??? \n",
    "print(out)"
   ]
  },
  {
   "cell_type": "markdown",
   "metadata": {},
   "source": [
    "Q12. Let X be a tensor [[1, 2, 3], [4, 5, 6]]. Convert X into Y such that Y looks like [[1, 4], [2, 5], [3, 6]]."
   ]
  },
  {
   "cell_type": "code",
   "execution_count": 49,
   "metadata": {},
   "outputs": [
    {
     "name": "stdout",
     "output_type": "stream",
     "text": [
      "\n",
      "[[ 1.  4.]\n",
      " [ 2.  5.]\n",
      " [ 3.  6.]]\n",
      "<NDArray 3x2 @cpu(0)>\n"
     ]
    }
   ],
   "source": [
    "X = nd.array([[1, 2, 3], [4, 5, 6]])\n",
    "Y = ??? \n",
    "print(Y)"
   ]
  },
  {
   "cell_type": "markdown",
   "metadata": {},
   "source": [
    "Q13. Given X below, reverse the sequence along the second axis except the zero-paddings. "
   ]
  },
  {
   "cell_type": "code",
   "execution_count": 53,
   "metadata": {},
   "outputs": [
    {
     "data": {
      "text/plain": [
       "\n",
       "[[[ 0.  0.  0.]\n",
       "  [ 0.  1.  0.]\n",
       "  [ 0.  0.  1.]]\n",
       "\n",
       " [[ 1.  0.  0.]\n",
       "  [ 0.  1.  0.]\n",
       "  [ 0.  0.  1.]]]\n",
       "<NDArray 2x3x3 @cpu(0)>"
      ]
     },
     "execution_count": 53,
     "metadata": {},
     "output_type": "execute_result"
    }
   ],
   "source": [
    "X = nd.array(\n",
    "[[[0, 0, 1],\n",
    "  [0, 1, 0],\n",
    "  [0, 0, 0]],\n",
    " \n",
    " [[0, 0, 1],\n",
    "  [0, 1, 0],\n",
    "  [1, 0, 0]]])\n",
    "\n",
    "out = ??? \n",
    "out"
   ]
  },
  {
   "cell_type": "markdown",
   "metadata": {},
   "source": [
    "Q14. Given X below, reverse the last dimension."
   ]
  },
  {
   "cell_type": "code",
   "execution_count": 59,
   "metadata": {},
   "outputs": [
    {
     "name": "stdout",
     "output_type": "stream",
     "text": [
      "[[[[  4.   3.   2.   1.]\n",
      "   [  8.   7.   6.   5.]\n",
      "   [ 12.  11.  10.   9.]]\n",
      "\n",
      "  [[ 16.  15.  14.  13.]\n",
      "   [ 20.  19.  18.  17.]\n",
      "   [ 24.  23.  22.  21.]]]]\n"
     ]
    }
   ],
   "source": [
    "_X = np.arange(1, 1*2*3*4 + 1).reshape((1, 2, 3, 4))\n",
    "X = nd.array(_X)\n",
    "out = ??? \n",
    "print(out.asnumpy())\n",
    "assert np.allclose(out.asnumpy(), _X[:, :, :, ::-1])"
   ]
  },
  {
   "cell_type": "markdown",
   "metadata": {},
   "source": [
    "Q15. Given X below, permute its dimensions such that the new tensor has shape (3, 1, 2)."
   ]
  },
  {
   "cell_type": "code",
   "execution_count": 63,
   "metadata": {},
   "outputs": [
    {
     "name": "stdout",
     "output_type": "stream",
     "text": [
      "(3, 1, 2)\n"
     ]
    }
   ],
   "source": [
    "_X = np.ones((1, 2, 3))\n",
    "X = nd.array(_X)\n",
    "out = ??? \n",
    "print(out.shape)\n",
    "assert np.allclose(out.asnumpy(), np.transpose(_X))"
   ]
  },
  {
   "cell_type": "markdown",
   "metadata": {},
   "source": [
    "Q16. Let X be a tensor [[7, 8], [5, 6]] and Y be a tensor [[1, 2], [3, 4]]. Create a single tensor looking like [[1, 2], [3, 4], [5, 6], [7, 8]]."
   ]
  },
  {
   "cell_type": "code",
   "execution_count": 79,
   "metadata": {},
   "outputs": [
    {
     "name": "stdout",
     "output_type": "stream",
     "text": [
      "\n",
      "[[ 1.  2.]\n",
      " [ 3.  4.]\n",
      " [ 5.  6.]\n",
      " [ 7.  8.]]\n",
      "<NDArray 4x2 @cpu(0)>\n"
     ]
    }
   ],
   "source": [
    "X = nd.array([[7, 8], [5, 6]])\n",
    "Y = nd.array([[1, 2], [3, 4]])\n",
    "out = ??? \n",
    "print(out)"
   ]
  },
  {
   "cell_type": "markdown",
   "metadata": {},
   "source": [
    "Q17. Let x be a tensor [0, 1, 2, 3] and y be a tensor [True, False, False, True].<br/>\n",
    "Apply mask y to x.\n",
    "\n",
    "**Unsupported** as of mxnet 0.12. see [this github issue](https://github.com/apache/incubator-mxnet/issues/7443)"
   ]
  },
  {
   "cell_type": "markdown",
   "metadata": {},
   "source": [
    "Q18. Let X be a tensor [[0, 5, 3], [4, 2, 1]]. Convert X into one-hot."
   ]
  },
  {
   "cell_type": "code",
   "execution_count": 91,
   "metadata": {},
   "outputs": [
    {
     "name": "stdout",
     "output_type": "stream",
     "text": [
      "\n",
      "[[[ 1.  0.  0.  0.  0.  0.]\n",
      "  [ 0.  0.  0.  0.  0.  1.]\n",
      "  [ 0.  0.  0.  1.  0.  0.]]\n",
      "\n",
      " [[ 0.  0.  0.  0.  1.  0.]\n",
      "  [ 0.  0.  1.  0.  0.  0.]\n",
      "  [ 0.  1.  0.  0.  0.  0.]]]\n",
      "<NDArray 2x3x6 @cpu(0)>\n"
     ]
    }
   ],
   "source": [
    "X = nd.array([[0, 5, 3], [4, 2, 1]])\n",
    "out = ??? \n",
    "print(out)"
   ]
  }
 ],
 "metadata": {
  "anaconda-cloud": {},
  "hide_input": false,
  "kernelspec": {
   "display_name": "Python 3",
   "language": "python",
   "name": "python3"
  },
  "language_info": {
   "codemirror_mode": {
    "name": "ipython",
    "version": 3
   },
   "file_extension": ".py",
   "mimetype": "text/x-python",
   "name": "python",
   "nbconvert_exporter": "python",
   "pygments_lexer": "ipython3",
   "version": "3.5.3"
  }
 },
 "nbformat": 4,
 "nbformat_minor": 1
}
