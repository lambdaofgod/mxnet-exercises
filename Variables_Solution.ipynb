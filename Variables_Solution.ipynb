{
 "cells": [
  {
   "cell_type": "markdown",
   "metadata": {},
   "source": [
    "# Variables"
   ]
  },
  {
   "cell_type": "code",
   "execution_count": 1,
   "metadata": {
    "collapsed": true
   },
   "outputs": [],
   "source": [
    "from __future__ import print_function\n",
    "import mxnet\n",
    "from mxnet import nd, autograd\n",
    "import numpy as np\n",
    "import matplotlib\n",
    "%matplotlib inline\n",
    "import matplotlib.pyplot as plt"
   ]
  },
  {
   "cell_type": "code",
   "execution_count": 2,
   "metadata": {},
   "outputs": [
    {
     "data": {
      "text/plain": [
       "datetime.date(2017, 12, 26)"
      ]
     },
     "execution_count": 2,
     "metadata": {},
     "output_type": "execute_result"
    }
   ],
   "source": [
    "from datetime import date\n",
    "date.today()"
   ]
  },
  {
   "cell_type": "code",
   "execution_count": 3,
   "metadata": {
    "collapsed": true
   },
   "outputs": [],
   "source": [
    "author = \"lambdaofgod. based on https://github.com/Kyubyong/pytorch_exercises\""
   ]
  },
  {
   "cell_type": "code",
   "execution_count": 4,
   "metadata": {},
   "outputs": [
    {
     "data": {
      "text/plain": [
       "'0.12.1'"
      ]
     },
     "execution_count": 4,
     "metadata": {},
     "output_type": "execute_result"
    }
   ],
   "source": [
    "mxnet.__version__"
   ]
  },
  {
   "cell_type": "code",
   "execution_count": 5,
   "metadata": {},
   "outputs": [
    {
     "data": {
      "text/plain": [
       "'1.12.1'"
      ]
     },
     "execution_count": 5,
     "metadata": {},
     "output_type": "execute_result"
    }
   ],
   "source": [
    "np.__version__"
   ]
  },
  {
   "cell_type": "markdown",
   "metadata": {},
   "source": [
    "NOTE on notation\n",
    "\n",
    "    _x, _y, _z, ...: NumPy 0-d or 1-d arrays\n",
    "    _X, _Y, _Z, ...: NumPy 2-d or higer dimensional arrays\n",
    "    x, y, z, ...: 0-d or 1-d tensors\n",
    "    X, Y, Z, ...: 2-d or higher dimensional tensors\n"
   ]
  },
  {
   "cell_type": "markdown",
   "metadata": {},
   "source": [
    "## Variables "
   ]
  },
  {
   "cell_type": "markdown",
   "metadata": {},
   "source": [
    "Q0. Create a variable `X` of the size (3, 2), filled with 1's."
   ]
  },
  {
   "cell_type": "code",
   "execution_count": 6,
   "metadata": {},
   "outputs": [
    {
     "name": "stdout",
     "output_type": "stream",
     "text": [
      "\n",
      "[[ 1.  1.]\n",
      " [ 1.  1.]\n",
      " [ 1.  1.]]\n",
      "<NDArray 3x2 @cpu(0)>\n"
     ]
    }
   ],
   "source": [
    "X = nd.ones(shape=(3, 2))\n",
    "print(X)"
   ]
  },
  {
   "cell_type": "markdown",
   "metadata": {},
   "source": [
    "Q1. Get the tensor of Variable X."
   ]
  },
  {
   "cell_type": "code",
   "execution_count": 7,
   "metadata": {},
   "outputs": [
    {
     "name": "stdout",
     "output_type": "stream",
     "text": [
      "\n",
      "[[ 0.30030754  0.23107235  1.04932892]\n",
      " [-0.32433933 -0.0097888   0.73686236]\n",
      " [ 1.72023427  0.46656415 -1.07333767]]\n",
      "<NDArray 3x3 @cpu(0)>\n"
     ]
    }
   ],
   "source": [
    "X = nd.random_normal(shape=(3, 3))\n",
    "print(X)"
   ]
  },
  {
   "cell_type": "markdown",
   "metadata": {},
   "source": [
    "Q2. Complete the code."
   ]
  },
  {
   "cell_type": "code",
   "execution_count": 22,
   "metadata": {},
   "outputs": [
    {
     "data": {
      "image/png": "[encoded data removed]",
      "text/plain": [
       "<matplotlib.figure.Figure at 0x7f1236a1ca90>"
      ]
     },
     "metadata": {},
     "output_type": "display_data"
    }
   ],
   "source": [
    "# Create a trainable variable `w` of scalar 10.\n",
    "w = 10 * nd.ones(shape=(1,))\n",
    "w.attach_grad()\n",
    "\n",
    "gs, ws, grads = [], [], []\n",
    "for i in range(10):\n",
    "    with autograd.record():\n",
    "      y = w ** 2 + 2\n",
    "    \n",
    "    # apply backpropagation to y.\n",
    "    y.backward()\n",
    "    \n",
    "    w[:] -= 0.01 * w.grad\n",
    "    \n",
    "    gs.append(i)\n",
    "    ws.append(w[0].asscalar())\n",
    "    grads.append(w.grad[0].asscalar())\n",
    "\n",
    "plt.figure(figsize=(15,6))\n",
    "ax=plt.subplot(1, 2, 1)\n",
    "ax.scatter(gs, ws, c=\"b\", label=\"w\")\n",
    "ax.legend(loc=\"upper right\")\n",
    "ax=plt.subplot(1, 2, 2)\n",
    "plt.scatter(gs, grads, c=\"r\", label=\"gradient\")\n",
    "plt.legend(loc=\"upper left\")\n",
    "plt.show()"
   ]
  },
  {
   "cell_type": "markdown",
   "metadata": {
    "collapsed": true
   },
   "source": [
    "Q3. Complete the code. <br>This is adapted from `http://pytorch.org/tutorials/beginner/examples_autograd/two_layer_net_autograd.html`."
   ]
  },
  {
   "cell_type": "code",
   "execution_count": 9,
   "metadata": {},
   "outputs": [
    {
     "name": "stdout",
     "output_type": "stream",
     "text": [
      "Epoch 010/500: loss 1199448.87500\n",
      "Epoch 020/500: loss 261856.31250\n",
      "Epoch 030/500: loss 87144.28906\n",
      "Epoch 040/500: loss 35228.00391\n",
      "Epoch 050/500: loss 15892.88770\n",
      "Epoch 060/500: loss 7708.31494\n",
      "Epoch 070/500: loss 3937.67749\n",
      "Epoch 080/500: loss 2096.00879\n",
      "Epoch 090/500: loss 1153.77307\n",
      "Epoch 100/500: loss 653.37732\n",
      "Epoch 110/500: loss 379.05869\n",
      "Epoch 120/500: loss 224.50418\n",
      "Epoch 130/500: loss 135.33827\n",
      "Epoch 140/500: loss 82.82515\n",
      "Epoch 150/500: loss 51.34477\n",
      "Epoch 160/500: loss 32.18481\n",
      "Epoch 170/500: loss 20.36802\n",
      "Epoch 180/500: loss 12.99662\n",
      "Epoch 190/500: loss 8.35244\n",
      "Epoch 200/500: loss 5.40133\n",
      "Epoch 210/500: loss 3.51201\n",
      "Epoch 220/500: loss 2.29444\n",
      "Epoch 230/500: loss 1.50535\n",
      "Epoch 240/500: loss 0.99135\n",
      "Epoch 250/500: loss 0.65499\n",
      "Epoch 260/500: loss 0.43399\n",
      "Epoch 270/500: loss 0.28851\n",
      "Epoch 280/500: loss 0.19217\n",
      "Epoch 290/500: loss 0.12829\n",
      "Epoch 300/500: loss 0.08584\n",
      "Epoch 310/500: loss 0.05756\n",
      "Epoch 320/500: loss 0.03869\n",
      "Epoch 330/500: loss 0.02608\n",
      "Epoch 340/500: loss 0.01764\n",
      "Epoch 350/500: loss 0.01199\n",
      "Epoch 360/500: loss 0.00821\n",
      "Epoch 370/500: loss 0.00566\n",
      "Epoch 380/500: loss 0.00394\n",
      "Epoch 390/500: loss 0.00277\n",
      "Epoch 400/500: loss 0.00199\n",
      "Epoch 410/500: loss 0.00144\n",
      "Epoch 420/500: loss 0.00107\n",
      "Epoch 430/500: loss 0.00081\n",
      "Epoch 440/500: loss 0.00062\n",
      "Epoch 450/500: loss 0.00048\n",
      "Epoch 460/500: loss 0.00038\n",
      "Epoch 470/500: loss 0.00031\n",
      "Epoch 480/500: loss 0.00025\n",
      "Epoch 490/500: loss 0.00021\n",
      "Epoch 500/500: loss 0.00017\n"
     ]
    },
    {
     "data": {
      "image/png": "[encoded data removed]",
      "text/plain": [
       "<matplotlib.figure.Figure at 0x7f124c1a27f0>"
      ]
     },
     "metadata": {},
     "output_type": "display_data"
    }
   ],
   "source": [
    "# Untrainable variables\n",
    "# Create untrainable variables X and Y.\n",
    "X = nd.random_normal(shape=(64, 1000))\n",
    "Y = nd.random_normal(shape=(64, 10))\n",
    "X.attach_grad()\n",
    "Y.attach_grad()\n",
    "\n",
    "# Trainable Variables\n",
    "w1 = nd.random_normal(shape=(1000, 100))\n",
    "w2 = nd.random_normal(shape=(100, 10))\n",
    "w1.attach_grad()\n",
    "w2.attach_grad()\n",
    "\n",
    "# Parameters\n",
    "n_epochs = 500\n",
    "learning_rate = 1e-6\n",
    "log_interval = 10\n",
    "\n",
    "losses = []\n",
    "for t in range(n_epochs):\n",
    "    with autograd.record():\n",
    "      Y_pred = (\n",
    "        nd.dot(\n",
    "          nd.dot(X, w1)\n",
    "            .clip(a_min=0, a_max=np.inf),\n",
    "        w2)\n",
    "      )\n",
    "\n",
    "      # Apply L2 loss to Y pred and Y.\n",
    "      loss = ((Y_pred - Y) ** 2).sum()\n",
    "    \n",
    "    losses.append(loss[0].asscalar())\n",
    "\n",
    "    loss.backward()\n",
    "    \n",
    "    w1 -= learning_rate * w1.grad\n",
    "    w2 -= learning_rate * w2.grad\n",
    "\n",
    "    if (t + 1) % log_interval == 0:\n",
    "        print(\"Epoch {:03d}/{:03d}: loss {:.5f}\".format(\n",
    "                t + 1, n_epochs, loss[0].asscalar()))\n",
    "\n",
    "# plot\n",
    "plt.figure()\n",
    "plt.plot(losses, label=\"loss\")\n",
    "plt.legend()\n",
    "plt.show()\n"
   ]
  }
 ],
 "metadata": {
  "anaconda-cloud": {},
  "hide_input": false,
  "kernelspec": {
   "display_name": "Python 3",
   "language": "python",
   "name": "python3"
  },
  "language_info": {
   "codemirror_mode": {
    "name": "ipython",
    "version": 3
   },
   "file_extension": ".py",
   "mimetype": "text/x-python",
   "name": "python",
   "nbconvert_exporter": "python",
   "pygments_lexer": "ipython3",
   "version": "3.5.3"
  }
 },
 "nbformat": 4,
 "nbformat_minor": 1
}
