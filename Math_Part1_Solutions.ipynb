{
 "cells": [
  {
   "cell_type": "markdown",
   "metadata": {},
   "source": [
    "# Math Part 1"
   ]
  },
  {
   "cell_type": "code",
   "execution_count": 1,
   "metadata": {
    "collapsed": true
   },
   "outputs": [],
   "source": [
    "from __future__ import print_function\n",
    "import mxnet\n",
    "from mxnet import nd\n",
    "import numpy as np"
   ]
  },
  {
   "cell_type": "code",
   "execution_count": 2,
   "metadata": {},
   "outputs": [
    {
     "data": {
      "text/plain": [
       "datetime.date(2017, 12, 27)"
      ]
     },
     "execution_count": 2,
     "metadata": {},
     "output_type": "execute_result"
    }
   ],
   "source": [
    "from datetime import date\n",
    "date.today()"
   ]
  },
  {
   "cell_type": "code",
   "execution_count": 3,
   "metadata": {
    "collapsed": true
   },
   "outputs": [],
   "source": [
    "author = \"lambdaofgod. based on https://github.com/Kyubyong/tensorflow-exercises\""
   ]
  },
  {
   "cell_type": "code",
   "execution_count": 4,
   "metadata": {},
   "outputs": [
    {
     "data": {
      "text/plain": [
       "'0.12.1'"
      ]
     },
     "execution_count": 4,
     "metadata": {},
     "output_type": "execute_result"
    }
   ],
   "source": [
    "mxnet.__version__"
   ]
  },
  {
   "cell_type": "code",
   "execution_count": 5,
   "metadata": {},
   "outputs": [
    {
     "data": {
      "text/plain": [
       "'1.12.1'"
      ]
     },
     "execution_count": 5,
     "metadata": {},
     "output_type": "execute_result"
    }
   ],
   "source": [
    "np.__version__"
   ]
  },
  {
   "cell_type": "markdown",
   "metadata": {},
   "source": [
    "NOTE on notation\n",
    "* _x, _y, _z, ...: NumPy 0-d or 1-d arrays\n",
    "* _X, _Y, _Z, ...: NumPy 2-d or higer dimensional arrays\n",
    "* x, y, z, ...: 0-d or 1-d tensors\n",
    "* X, Y, Z, ...: 2-d or higher dimensional tensors"
   ]
  },
  {
   "cell_type": "markdown",
   "metadata": {},
   "source": [
    "## Arithmetic Operators"
   ]
  },
  {
   "cell_type": "markdown",
   "metadata": {},
   "source": [
    "Q1. Add x and y element-wise."
   ]
  },
  {
   "cell_type": "code",
   "execution_count": 6,
   "metadata": {},
   "outputs": [
    {
     "name": "stdout",
     "output_type": "stream",
     "text": [
      "\n",
      "[ 0.  0.  0.]\n",
      "<NDArray 3 @cpu(0)>\n"
     ]
    }
   ],
   "source": [
    "_x = np.array([1, 2, 3])\n",
    "_y = np.array([-1, -2, -3])\n",
    "x = nd.array(_x)\n",
    "y = nd.array(_y)\n",
    "out1 = nd.add(x, y)\n",
    "out2 = x + y \n",
    "print(out1)\n",
    "assert np.array_equal(out1.asnumpy(), out2.asnumpy()) # nd.add is the same as the `+` operator.\n",
    "\n",
    "_out = np.add(_x, _y)\n",
    "assert np.array_equal(out1.asnumpy(), _out) # nd.add == np.add"
   ]
  },
  {
   "cell_type": "markdown",
   "metadata": {},
   "source": [
    "Q2. Subtract y from x element-wise."
   ]
  },
  {
   "cell_type": "code",
   "execution_count": 7,
   "metadata": {},
   "outputs": [
    {
     "name": "stdout",
     "output_type": "stream",
     "text": [
      "[ 0.  1.  2.]\n"
     ]
    }
   ],
   "source": [
    "_x = np.array([3, 4, 5])\n",
    "_y = np.array([3])\n",
    "x = nd.array(_x)\n",
    "y = nd.array(_y)\n",
    "out1 = nd.subtract(x, y)\n",
    "out2 = x - y \n",
    "print(out1.asnumpy())\n",
    "assert np.array_equal(out1.asnumpy(), out2.asnumpy()) # nd.subtract is the same as the `-` operator.\n",
    "\n",
    "_out = np.subtract(_x, _y)\n",
    "assert np.array_equal(out1.asnumpy(), _out) # nd.subtract == np.subtract\n",
    "# `add`, `subtract`, `multiply`, `div`, and `mod` support broadcasting. "
   ]
  },
  {
   "cell_type": "markdown",
   "metadata": {},
   "source": [
    "Q3. Multiply x by y element-wise."
   ]
  },
  {
   "cell_type": "code",
   "execution_count": 8,
   "metadata": {},
   "outputs": [
    {
     "name": "stdout",
     "output_type": "stream",
     "text": [
      "[ 3.  0. -5.]\n"
     ]
    }
   ],
   "source": [
    "_x = np.array([3, 4, 5])\n",
    "_y = np.array([1, 0, -1])\n",
    "x = nd.array(_x)\n",
    "y = nd.array(_y)\n",
    "out1 = nd.multiply(x, y)\n",
    "out2 = x * y \n",
    "print(out1.asnumpy())\n",
    "assert np.array_equal(out1.asnumpy(), out2.asnumpy()) # nd.multiply is the same as the `*` operator.\n",
    "\n",
    "_out = np.multiply(_x, _y)\n",
    "assert np.array_equal(out1.asnumpy(), _out) # nd.multiply == np.multiply"
   ]
  },
  {
   "cell_type": "markdown",
   "metadata": {},
   "source": [
    "Q4. Multiply x by 5 element-wise."
   ]
  },
  {
   "cell_type": "code",
   "execution_count": 9,
   "metadata": {},
   "outputs": [
    {
     "name": "stdout",
     "output_type": "stream",
     "text": [
      "[  5.  10.  15.]\n"
     ]
    }
   ],
   "source": [
    "_x = np.array([1, 2, 3])\n",
    "x = nd.array(_x)\n",
    "out1 = nd.multiply(5, x)\n",
    "out2 = x * 5\n",
    "print(out1.asnumpy())\n",
    "assert np.array_equal(out1.asnumpy(), out2.asnumpy())\n",
    "\n",
    "_out = _x * 5\n",
    "assert np.array_equal(out1.asnumpy(), _out)"
   ]
  },
  {
   "cell_type": "markdown",
   "metadata": {},
   "source": [
    "Q5. Predict the result of this."
   ]
  },
  {
   "cell_type": "code",
   "execution_count": 20,
   "metadata": {},
   "outputs": [
    {
     "name": "stdout",
     "output_type": "stream",
     "text": [
      "False\n",
      "[5 6 6] int32\n",
      "[ 5.          6.66666667  6.        ] float64\n"
     ]
    }
   ],
   "source": [
    "_x = np.array([10, 20, 30], np.int32)\n",
    "_y = np.array([2, 3, 5], np.int32)\n",
    "x = nd.array(_x, dtype='int32')\n",
    "y = nd.array(_y, dtype='int32')\n",
    "out1 = nd.divide(x, y)\n",
    "out2 = x.astype('float64') / y.astype('float64')\n",
    "print(np.array_equal(out1.asnumpy(), out2.asnumpy()))\n",
    "\n",
    "print(out1.asnumpy(), out1.asnumpy().dtype) # nd.div() returns the same results as input tensors. \n",
    "print(out2.asnumpy(), out2.asnumpy().dtype)# nd.truediv() always returns floating point results.\n",
    "\n",
    "_out1 = _x // _y\n",
    "assert np.array_equal(out1.asnumpy(), _out1)\n",
    "\n",
    "_out2 = _x / _y\n",
    "assert np.array_equal(out2.asnumpy(), _out2)"
   ]
  },
  {
   "cell_type": "markdown",
   "metadata": {},
   "source": [
    "Q6. Get the remainder of x / y element-wise."
   ]
  },
  {
   "cell_type": "code",
   "execution_count": 22,
   "metadata": {},
   "outputs": [
    {
     "name": "stdout",
     "output_type": "stream",
     "text": [
      "[ 0.  2.  2.]\n"
     ]
    }
   ],
   "source": [
    "_x = np.array([10, 20, 30], np.int32)\n",
    "_y = np.array([2, 3, 7], np.int32)\n",
    "x = nd.array(_x)\n",
    "y = nd.array(_y)\n",
    "\n",
    "out1 = nd.modulo(x, y)\n",
    "out2 = x % y\n",
    "print(out1.asnumpy())\n",
    "assert np.array_equal(out1.asnumpy(), out2.asnumpy())# nd.mod() is the same as the `%` operator.\n",
    "\n",
    "_out = _x % _y\n",
    "assert np.array_equal(out1.asnumpy(), _out)\n"
   ]
  },
  {
   "cell_type": "markdown",
   "metadata": {},
   "source": [
    "Q7. Compute the pairwise cross product of x and y."
   ]
  },
  {
   "cell_type": "code",
   "execution_count": 23,
   "metadata": {},
   "outputs": [
    {
     "ename": "AttributeError",
     "evalue": "module 'mxnet.ndarray' has no attribute 'cross'",
     "output_type": "error",
     "traceback": [
      "\u001b[0;31m---------------------------------------------------------------------------\u001b[0m",
      "\u001b[0;31mAttributeError\u001b[0m                            Traceback (most recent call last)",
      "\u001b[0;32m<ipython-input-23-98f3a039dcdd>\u001b[0m in \u001b[0;36m<module>\u001b[0;34m()\u001b[0m\n\u001b[1;32m      4\u001b[0m \u001b[0my\u001b[0m \u001b[0;34m=\u001b[0m \u001b[0mnd\u001b[0m\u001b[0;34m.\u001b[0m\u001b[0marray\u001b[0m\u001b[0;34m(\u001b[0m\u001b[0m_y\u001b[0m\u001b[0;34m)\u001b[0m\u001b[0;34m\u001b[0m\u001b[0m\n\u001b[1;32m      5\u001b[0m \u001b[0;34m\u001b[0m\u001b[0m\n\u001b[0;32m----> 6\u001b[0;31m \u001b[0mout1\u001b[0m \u001b[0;34m=\u001b[0m \u001b[0mnd\u001b[0m\u001b[0;34m.\u001b[0m\u001b[0mcross\u001b[0m\u001b[0;34m(\u001b[0m\u001b[0mx\u001b[0m\u001b[0;34m,\u001b[0m \u001b[0my\u001b[0m\u001b[0;34m)\u001b[0m\u001b[0;34m\u001b[0m\u001b[0m\n\u001b[0m\u001b[1;32m      7\u001b[0m \u001b[0mprint\u001b[0m\u001b[0;34m(\u001b[0m\u001b[0mout1\u001b[0m\u001b[0;34m.\u001b[0m\u001b[0masnumpy\u001b[0m\u001b[0;34m(\u001b[0m\u001b[0;34m)\u001b[0m\u001b[0;34m)\u001b[0m\u001b[0;34m\u001b[0m\u001b[0m\n\u001b[1;32m      8\u001b[0m \u001b[0;34m\u001b[0m\u001b[0m\n",
      "\u001b[0;31mAttributeError\u001b[0m: module 'mxnet.ndarray' has no attribute 'cross'"
     ]
    }
   ],
   "source": [
    "_x = np.array([1, 2, 3], np.int32)\n",
    "_y = np.array([4, 5, 6], np.int32)\n",
    "x = nd.array(_x)\n",
    "y = nd.array(_y)\n",
    "\n",
    "out1 = nd.cr(x, y)\n",
    "print(out1.asnumpy())\n",
    "\n",
    "_out = np.cross(_x, _y)\n",
    "assert np.array_equal(out1.asnumpy(), _out) # nd.cross == np.cross"
   ]
  },
  {
   "cell_type": "markdown",
   "metadata": {},
   "source": [
    "## Basic Math Functions"
   ]
  },
  {
   "cell_type": "markdown",
   "metadata": {},
   "source": [
    "Q8. Add x, y, and z element-wise."
   ]
  },
  {
   "cell_type": "code",
   "execution_count": 26,
   "metadata": {},
   "outputs": [
    {
     "name": "stdout",
     "output_type": "stream",
     "text": [
      "[  9.  12.  15.]\n"
     ]
    }
   ],
   "source": [
    "_x = np.array([1, 2, 3], np.int32)\n",
    "_y = np.array([4, 5, 6], np.int32)\n",
    "_z = np.array([7, 8, 9], np.int32)\n",
    "x = nd.array(_x)\n",
    "y = nd.array(_y)\n",
    "z = nd.array(_y)\n",
    "\n",
    "out1 = nd.add_n(x, y, z)\n",
    "out2 = x + y + z\n",
    "print(out1.asnumpy())\n",
    "\n",
    "assert np.array_equal(out1.asnumpy(), out2.asnumpy())"
   ]
  },
  {
   "cell_type": "markdown",
   "metadata": {},
   "source": [
    "Q9. Compute the absolute value of X element-wise."
   ]
  },
  {
   "cell_type": "code",
   "execution_count": 28,
   "metadata": {},
   "outputs": [
    {
     "name": "stdout",
     "output_type": "stream",
     "text": [
      "[[ 1.  1.]\n",
      " [ 3.  3.]]\n"
     ]
    }
   ],
   "source": [
    "_X = np.array([[1, -1], [3, -3]])\n",
    "X = nd.array(_X)\n",
    "\n",
    "out = nd.abs(X)\n",
    "print(out.asnumpy())\n",
    "\n",
    "_out = np.abs(_X)\n",
    "assert np.array_equal(out.asnumpy(), _out) # nd.abs == np.abs"
   ]
  },
  {
   "cell_type": "markdown",
   "metadata": {},
   "source": [
    "Q10. Compute numerical negative value of x, elemet-wise.\n"
   ]
  },
  {
   "cell_type": "code",
   "execution_count": 30,
   "metadata": {},
   "outputs": [
    {
     "name": "stdout",
     "output_type": "stream",
     "text": [
      "[[ 1.  1.]\n",
      " [ 3.  3.]]\n"
     ]
    }
   ],
   "source": [
    "_x = np.array([1, -1])\n",
    "x = nd.array(_x)\n",
    "\n",
    "out1 = nd.negative(x)\n",
    "out2 = -x\n",
    "print(out.asnumpy())\n",
    "assert np.array_equal(out1.asnumpy(), out2.asnumpy())\n",
    "\n",
    "_out = np.negative(_x)\n",
    "assert np.array_equal(out1.asnumpy(), _out) # nd.negative == np.negative"
   ]
  },
  {
   "cell_type": "markdown",
   "metadata": {},
   "source": [
    "Q11. Compute an element-wise indication of the sign of x, element-wise."
   ]
  },
  {
   "cell_type": "code",
   "execution_count": 31,
   "metadata": {},
   "outputs": [
    {
     "name": "stdout",
     "output_type": "stream",
     "text": [
      "[ 1.  1.  0. -1. -1.]\n"
     ]
    }
   ],
   "source": [
    "_x = np.array([1, 3, 0, -1, -3])\n",
    "x = nd.array(_x)\n",
    "\n",
    "out = nd.sign(x)\n",
    "print(out.asnumpy())\n",
    "\n",
    "_out = np.sign(_x)\n",
    "assert np.array_equal(out.asnumpy(), _out) # nd.sign == np.sign"
   ]
  },
  {
   "cell_type": "markdown",
   "metadata": {},
   "source": [
    "Q12. Compute the reciprocal of x, element-wise."
   ]
  },
  {
   "cell_type": "code",
   "execution_count": 32,
   "metadata": {},
   "outputs": [
    {
     "name": "stdout",
     "output_type": "stream",
     "text": [
      "[ 1.   0.5  5. ]\n"
     ]
    }
   ],
   "source": [
    "_x = np.array([1, 2, 2/10])\n",
    "x = nd.array(_x)\n",
    "\n",
    "out1 = nd.reciprocal(x)\n",
    "out2 = 1/x\n",
    "print(out1.asnumpy())\n",
    "assert np.array_equal(out1.asnumpy(), out2.asnumpy())\n",
    "\n",
    "_out = np.reciprocal(_x)\n",
    "assert np.array_equal(out1.asnumpy(), _out) # nd.reciprocal == np.reciprocal"
   ]
  },
  {
   "cell_type": "markdown",
   "metadata": {},
   "source": [
    "Q13. Compute the square of x, element-wise."
   ]
  },
  {
   "cell_type": "code",
   "execution_count": 33,
   "metadata": {},
   "outputs": [
    {
     "name": "stdout",
     "output_type": "stream",
     "text": [
      "[ 1.  4.  1.]\n"
     ]
    }
   ],
   "source": [
    "_x = np.array([1, 2, -1])\n",
    "x = nd.array(_x)\n",
    "\n",
    "out1 = nd.square(x)\n",
    "out2 = x * x\n",
    "print(out1.asnumpy())\n",
    "assert np.array_equal(out1.asnumpy(), out2.asnumpy())\n",
    "\n",
    "_out = np.square(_x)\n",
    "assert np.array_equal(out1.asnumpy(), _out) # nd.square == np.square"
   ]
  },
  {
   "cell_type": "markdown",
   "metadata": {},
   "source": [
    "Q14. Predict the results of this, paying attention to the difference among the family functions."
   ]
  },
  {
   "cell_type": "code",
   "execution_count": 71,
   "metadata": {},
   "outputs": [
    {
     "name": "stdout",
     "output_type": "stream",
     "text": [
      "[ 1.  1.  1.  1. -2. -2. -2.]\n",
      "[ 2.  2.  2.  2. -1. -1. -1.]\n"
     ]
    }
   ],
   "source": [
    "_x = np.array([2.1, 1.5, 2.5, 2.9, -2.1, -2.5, -2.9])\n",
    "x = nd.array(_x)\n",
    "\n",
    "out1 = nd.round(x)\n",
    "out2 = nd.floor(x)\n",
    "out3 = nd.ceil(x)\n",
    "print(out1.asnumpy())\n",
    "print(out2.asnumpy())\n",
    "print(out3.asnumpy())\n",
    "\n",
    "_out1 = np.round(_x)\n",
    "_out2 = np.floor(_x)\n",
    "_out3 = np.ceil(_x)\n",
    "assert np.array_equal(out1.asnumpy(), _out1) # nd.round == np.around\n",
    "assert np.array_equal(out2.asnumpy(), _out2) # nd.floor == np.floor\n",
    "assert np.array_equal(out3.asnumpy(), _out3) # nd.ceil == np.ceil"
   ]
  },
  {
   "cell_type": "markdown",
   "metadata": {},
   "source": [
    "Q15. Compute square root of x element-wise."
   ]
  },
  {
   "cell_type": "code",
   "execution_count": 49,
   "metadata": {},
   "outputs": [
    {
     "name": "stdout",
     "output_type": "stream",
     "text": [
      "[ 1.  2.  3.]\n"
     ]
    }
   ],
   "source": [
    "_x = np.array([1, 4, 9], dtype=np.float32)\n",
    "x = nd.array(_x)\n",
    "\n",
    "out = nd.sqrt(x)\n",
    "print(out.asnumpy())\n",
    "\n",
    "_out = np.sqrt(_x)\n",
    "assert np.array_equal(out.asnumpy(), _out) # nd.sqrt ≈ np.sqrt\n",
    "# Note that in TensorFlow, the input tensor must be\n",
    "# a float, whereas in Numpy, an integer is okay."
   ]
  },
  {
   "cell_type": "markdown",
   "metadata": {},
   "source": [
    "Q16. Compute the reciprocal of square root of x element-wise."
   ]
  },
  {
   "cell_type": "code",
   "execution_count": 51,
   "metadata": {},
   "outputs": [
    {
     "name": "stdout",
     "output_type": "stream",
     "text": [
      "[ 1.          0.5         0.33333334]\n"
     ]
    }
   ],
   "source": [
    "_x = np.array([1., 4., 9.])\n",
    "x = nd.array(_x)\n",
    "\n",
    "out1 = nd.rsqrt(x)\n",
    "out2 = nd.reciprocal(nd.sqrt(x))\n",
    "print(out1.asnumpy())\n",
    "assert np.array_equal(out1.asnumpy(), out2.asnumpy())"
   ]
  },
  {
   "cell_type": "markdown",
   "metadata": {},
   "source": [
    "Q17. Compute $x^y$, element-wise."
   ]
  },
  {
   "cell_type": "code",
   "execution_count": 53,
   "metadata": {},
   "outputs": [
    {
     "name": "stdout",
     "output_type": "stream",
     "text": [
      "[[  1.   4.]\n",
      " [  3.  16.]]\n"
     ]
    }
   ],
   "source": [
    "_x = np.array([[1, 2], [3, 4]])\n",
    "_y = np.array([[1, 2], [1, 2]])\n",
    "x = nd.array(_x)\n",
    "y = nd.array(_y)\n",
    "\n",
    "out = x ** y\n",
    "print(out.asnumpy())\n",
    "\n",
    "_out = np.power(_x, _y)\n",
    "assert np.array_equal(out.asnumpy(), _out) # nd.pow == np.power"
   ]
  },
  {
   "cell_type": "markdown",
   "metadata": {},
   "source": [
    "Q17. Compute $e^x$, element-wise."
   ]
  },
  {
   "cell_type": "code",
   "execution_count": 55,
   "metadata": {},
   "outputs": [
    {
     "name": "stdout",
     "output_type": "stream",
     "text": [
      "[  2.71828175   7.38905621  20.08553696]\n"
     ]
    }
   ],
   "source": [
    "_x = np.array([1., 2., 3.], np.float32)\n",
    "x = nd.array(_x)\n",
    "\n",
    "out1 = nd.exp(x)\n",
    "out2 = np.e ** x #np.e = 2.718281828459045\n",
    "print(out1.asnumpy())\n",
    "assert np.allclose(out1.asnumpy(), out2.asnumpy())\n",
    "\n",
    "_out = np.exp(_x)\n",
    "assert np.array_equal(out1.asnumpy(), _out) # nd.exp == np.exp"
   ]
  },
  {
   "cell_type": "markdown",
   "metadata": {},
   "source": [
    "Q18. Compute natural logarithm of x element-wise."
   ]
  },
  {
   "cell_type": "code",
   "execution_count": 56,
   "metadata": {},
   "outputs": [
    {
     "name": "stdout",
     "output_type": "stream",
     "text": [
      "[ 0.  1.  2.]\n"
     ]
    }
   ],
   "source": [
    "_x = np.array([1, np.e, np.e**2])\n",
    "x = nd.array(_x)\n",
    "\n",
    "out = nd.log(x)\n",
    "print(out.asnumpy())\n",
    "\n",
    "_out = np.log(_x)\n",
    "assert np.array_equal(out.asnumpy(), _out) # nd.log == np.log"
   ]
  },
  {
   "cell_type": "markdown",
   "metadata": {},
   "source": [
    "Q19. Compute the max of x and y element-wise."
   ]
  },
  {
   "cell_type": "code",
   "execution_count": 57,
   "metadata": {},
   "outputs": [
    {
     "name": "stdout",
     "output_type": "stream",
     "text": [
      "[ 2.  5.  4.]\n"
     ]
    }
   ],
   "source": [
    "_x = np.array([2, 3, 4])\n",
    "_y = np.array([1, 5, 2])\n",
    "x = nd.array(_x)\n",
    "y = nd.array(_y)\n",
    "\n",
    "out1 = nd.maximum(x, y)\n",
    "out2 = nd.where(x > y, x, y)\n",
    "print(out1.asnumpy())\n",
    "assert np.array_equal(out1.asnumpy(), out2.asnumpy())\n",
    "\n",
    "_out = np.maximum(_x, _y)\n",
    "assert np.array_equal(out1.asnumpy(), _out) # nd.maximum == np.maximum"
   ]
  },
  {
   "cell_type": "markdown",
   "metadata": {},
   "source": [
    "Q20. Compute the min of x and y element-wise."
   ]
  },
  {
   "cell_type": "code",
   "execution_count": 58,
   "metadata": {},
   "outputs": [
    {
     "name": "stdout",
     "output_type": "stream",
     "text": [
      "[ 1.  3.  2.]\n"
     ]
    }
   ],
   "source": [
    "_x = np.array([2, 3, 4])\n",
    "_y = np.array([1, 5, 2])\n",
    "x = nd.array(_x)\n",
    "y = nd.array(_y)\n",
    "\n",
    "out1 = nd.minimum(x, y)\n",
    "out2 = nd.where(x < y, x, y)\n",
    "print(out1.asnumpy())\n",
    "assert np.array_equal(out1.asnumpy(), out2.asnumpy())\n",
    "\n",
    "_out = np.minimum(_x, _y)\n",
    "assert np.array_equal(out1.asnumpy(), _out) # nd.minimum == np.minimum"
   ]
  },
  {
   "cell_type": "markdown",
   "metadata": {},
   "source": [
    "Q21. Compute the sine, cosine, and tangent of x, element-wise."
   ]
  },
  {
   "cell_type": "code",
   "execution_count": 61,
   "metadata": {},
   "outputs": [
    {
     "name": "stdout",
     "output_type": "stream",
     "text": [
      "[ -1.22464680e-16   1.22464680e-16   1.00000000e+00]\n",
      "[ -1.00000000e+00  -1.00000000e+00   6.12323400e-17]\n",
      "[  1.22464680e-16  -1.22464680e-16   1.63312394e+16]\n"
     ]
    }
   ],
   "source": [
    "_x = np.array([-np.pi, np.pi, np.pi/2])\n",
    "x = nd.array(_x, dtype='float64')\n",
    "\n",
    "out1 = nd.sin(x)\n",
    "out2 = nd.cos(x)\n",
    "out3 = nd.tan(x)\n",
    "print(out1.asnumpy())\n",
    "print(out2.asnumpy())\n",
    "print(out3.asnumpy())\n",
    "\n",
    "_out1 = np.sin(_x)\n",
    "_out2 = np.cos(_x)\n",
    "_out3 = np.tan(_x)\n",
    "\n",
    "assert np.allclose(out1.asnumpy(), _out1) # nd.sin == np.sin\n",
    "assert np.allclose(out2.asnumpy(), _out2) # nd.cos == np.cos\n",
    "assert np.allclose(out3.asnumpy(), _out3) # nd.tan == np.tan"
   ]
  },
  {
   "cell_type": "markdown",
   "metadata": {},
   "source": [
    "Q22. Compute (x - y)(x - y) element-wise."
   ]
  },
  {
   "cell_type": "code",
   "execution_count": 70,
   "metadata": {},
   "outputs": [
    {
     "name": "stdout",
     "output_type": "stream",
     "text": [
      "[ 1.  4.  9.]\n"
     ]
    }
   ],
   "source": [
    "_x = np.array([2, 3, 4])\n",
    "_y = np.array([1, 5, 1])\n",
    "x = nd.array(_x)\n",
    "y = nd.array(_y)\n",
    "\n",
    "out1 = nd.square(x - y)\n",
    "out2 = nd.square(nd.subtract(x, y))\n",
    "print(out1.asnumpy())\n",
    "assert np.array_equal(out1.asnumpy(), out2.asnumpy())"
   ]
  }
 ],
 "metadata": {
  "anaconda-cloud": {},
  "hide_input": false,
  "kernelspec": {
   "display_name": "Python 3",
   "language": "python",
   "name": "python3"
  },
  "language_info": {
   "codemirror_mode": {
    "name": "ipython",
    "version": 3
   },
   "file_extension": ".py",
   "mimetype": "text/x-python",
   "name": "python",
   "nbconvert_exporter": "python",
   "pygments_lexer": "ipython3",
   "version": "3.5.3"
  }
 },
 "nbformat": 4,
 "nbformat_minor": 1
}
