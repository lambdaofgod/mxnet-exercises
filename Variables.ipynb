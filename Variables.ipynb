{
 "cells": [
  {
   "cell_type": "markdown",
   "metadata": {},
   "source": [
    "# Variables"
   ]
  },
  {
   "cell_type": "code",
   "execution_count": 22,
   "metadata": {
    "collapsed": true
   },
   "outputs": [],
   "source": [
    "from __future__ import print_function\n",
    "from mxnet import nd, autograd\n",
    "import numpy as np\n",
    "import matplotlib\n",
    "%matplotlib inline\n",
    "import matplotlib.pyplot as plt"
   ]
  },
  {
   "cell_type": "code",
   "execution_count": 11,
   "metadata": {},
   "outputs": [
    {
     "data": {
      "text/plain": [
       "datetime.date(2017, 12, 26)"
      ]
     },
     "execution_count": 11,
     "metadata": {},
     "output_type": "execute_result"
    }
   ],
   "source": [
    "from datetime import date\n",
    "date.today()"
   ]
  },
  {
   "cell_type": "code",
   "execution_count": 12,
   "metadata": {
    "collapsed": true
   },
   "outputs": [],
   "source": [
    "author = \"lambdaofgod. based on https://github.com/Kyubyong/pytorch_exercises\""
   ]
  },
  {
   "cell_type": "code",
   "execution_count": 13,
   "metadata": {},
   "outputs": [
    {
     "data": {
      "text/plain": [
       "'0.12.1'"
      ]
     },
     "execution_count": 13,
     "metadata": {},
     "output_type": "execute_result"
    }
   ],
   "source": [
    "mx.__version__"
   ]
  },
  {
   "cell_type": "code",
   "execution_count": 14,
   "metadata": {},
   "outputs": [
    {
     "data": {
      "text/plain": [
       "'1.12.1'"
      ]
     },
     "execution_count": 14,
     "metadata": {},
     "output_type": "execute_result"
    }
   ],
   "source": [
    "np.__version__"
   ]
  },
  {
   "cell_type": "markdown",
   "metadata": {},
   "source": [
    "NOTE on notation\n",
    "\n",
    "    _x, _y, _z, ...: NumPy 0-d or 1-d arrays\n",
    "    _X, _Y, _Z, ...: NumPy 2-d or higer dimensional arrays\n",
    "    x, y, z, ...: 0-d or 1-d tensors\n",
    "    X, Y, Z, ...: 2-d or higher dimensional tensors\n"
   ]
  },
  {
   "cell_type": "markdown",
   "metadata": {},
   "source": [
    "## Variables "
   ]
  },
  {
   "cell_type": "markdown",
   "metadata": {},
   "source": [
    "Q0. Create a variable `X` of the size (3, 2), filled with 1's."
   ]
  },
  {
   "cell_type": "code",
   "execution_count": 16,
   "metadata": {},
   "outputs": [
    {
     "name": "stdout",
     "output_type": "stream",
     "text": [
      "\n",
      "[[ 1.  1.]\n",
      " [ 1.  1.]\n",
      " [ 1.  1.]]\n",
      "<NDArray 3x2 @cpu(0)>\n"
     ]
    }
   ],
   "source": [
    "X = nd.ones(shape=(3, 2))\n",
    "print(X)"
   ]
  },
  {
   "cell_type": "markdown",
   "metadata": {},
   "source": [
    "Q1. Complete the code."
   ]
  },
  {
   "cell_type": "code",
   "execution_count": 37,
   "metadata": {
    "collapsed": true
   },
   "outputs": [],
   "source": [
    "# Create a trainable variable `w` of scalar 10.\n",
    "w = ??? \n",
    "w.???()\n",
    "\n",
    "gs, ws, grads = [], [], []\n",
    "for i in range(10):\n",
    "    with autograd.record():\n",
    "      y = w ** 2 + 2\n",
    "    \n",
    "    # apply backpropagation to y.\n",
    "    y.???\n",
    "    \n",
    "    w[:] -= 0.01 * w.grad\n",
    "    \n",
    "    gs.append(i)\n",
    "    ws.append(w[0].asscalar())\n",
    "    grads.append(w.grad[0].asscalar())\n",
    "\n",
    "plt.figure(figsize=(15,6))\n",
    "ax=plt.subplot(1, 2, 1)\n",
    "ax.scatter(gs, ws, c=\"b\", label=\"w\")\n",
    "ax.legend(loc=\"upper right\")\n",
    "ax=plt.subplot(1, 2, 2)\n",
    "plt.scatter(gs, grads, c=\"r\", label=\"gradient\")\n",
    "plt.legend(loc=\"upper left\")\n",
    "plt.show()"
   ]
  },
  {
   "cell_type": "markdown",
   "metadata": {
    "collapsed": true
   },
   "source": [
    "Q3. Complete the code. <br>This is adapted from `http://pytorch.org/tutorials/beginner/examples_autograd/two_layer_net_autograd.html`."
   ]
  },
  {
   "cell_type": "code",
   "execution_count": 59,
   "metadata": {},
   "outputs": [
    {
     "name": "stdout",
     "output_type": "stream",
     "text": [
      "Epoch 010/500: loss 1685365.62500\n",
      "Epoch 020/500: loss 219796.64062\n",
      "Epoch 030/500: loss 65765.21875\n",
      "Epoch 040/500: loss 24334.04492\n",
      "Epoch 050/500: loss 10217.20898\n",
      "Epoch 060/500: loss 4673.43701\n",
      "Epoch 070/500: loss 2283.03809\n",
      "Epoch 080/500: loss 1174.62915\n",
      "Epoch 090/500: loss 630.70221\n",
      "Epoch 100/500: loss 350.97342\n",
      "Epoch 110/500: loss 201.12633\n",
      "Epoch 120/500: loss 118.22195\n",
      "Epoch 130/500: loss 71.00894\n",
      "Epoch 140/500: loss 43.42177\n",
      "Epoch 150/500: loss 26.96246\n",
      "Epoch 160/500: loss 16.96135\n",
      "Epoch 170/500: loss 10.79233\n",
      "Epoch 180/500: loss 6.93480\n",
      "Epoch 190/500: loss 4.49499\n",
      "Epoch 200/500: loss 2.93557\n",
      "Epoch 210/500: loss 1.93008\n",
      "Epoch 220/500: loss 1.27650\n",
      "Epoch 230/500: loss 0.84876\n",
      "Epoch 240/500: loss 0.56709\n",
      "Epoch 250/500: loss 0.38045\n",
      "Epoch 260/500: loss 0.25627\n",
      "Epoch 270/500: loss 0.17317\n",
      "Epoch 280/500: loss 0.11744\n",
      "Epoch 290/500: loss 0.07987\n",
      "Epoch 300/500: loss 0.05447\n",
      "Epoch 310/500: loss 0.03726\n",
      "Epoch 320/500: loss 0.02558\n",
      "Epoch 330/500: loss 0.01763\n",
      "Epoch 340/500: loss 0.01220\n",
      "Epoch 350/500: loss 0.00850\n",
      "Epoch 360/500: loss 0.00597\n",
      "Epoch 370/500: loss 0.00424\n",
      "Epoch 380/500: loss 0.00304\n",
      "Epoch 390/500: loss 0.00221\n",
      "Epoch 400/500: loss 0.00163\n",
      "Epoch 410/500: loss 0.00122\n",
      "Epoch 420/500: loss 0.00093\n",
      "Epoch 430/500: loss 0.00072\n",
      "Epoch 440/500: loss 0.00057\n",
      "Epoch 450/500: loss 0.00045\n",
      "Epoch 460/500: loss 0.00037\n",
      "Epoch 470/500: loss 0.00030\n",
      "Epoch 480/500: loss 0.00025\n",
      "Epoch 490/500: loss 0.00021\n",
      "Epoch 500/500: loss 0.00017\n"
     ]
    },
    {
     "data": {
      "image/png": "[encoded data removed]",
      "text/plain": [
       "<matplotlib.figure.Figure at 0x7ff4a2985ef0>"
      ]
     },
     "metadata": {},
     "output_type": "display_data"
    }
   ],
   "source": [
    "# Untrainable variables\n",
    "# Create untrainable variables X and Y.\n",
    "X = nd.random_normal(shape=(64, 1000))\n",
    "Y = nd.random_normal(shape=(64, 10))\n",
    "X.attach_grad()\n",
    "Y.attach_grad()\n",
    "\n",
    "# Trainable Variables\n",
    "w1 = nd.random_normal(shape=(1000, 100))\n",
    "w2 = nd.random_normal(shape=(100, 10))\n",
    "w1.attach_grad()\n",
    "w2.attach_grad()\n",
    "\n",
    "# Parameters\n",
    "n_epochs = 500\n",
    "learning_rate = 1e-6\n",
    "log_interval = 10\n",
    "\n",
    "losses = []\n",
    "for t in range(n_epochs):\n",
    "    with autograd.record():\n",
    "      Y_pred = (\n",
    "        nd.dot(\n",
    "          nd.dot(X, w1)\n",
    "            .clip(a_min=0, a_max=np.inf),\n",
    "        w2)\n",
    "      )\n",
    "\n",
    "      # Apply L2 loss to Y pred and Y.\n",
    "      loss = ???\n",
    "    \n",
    "    losses.append(loss[0].asscalar())\n",
    "\n",
    "    loss.backward()\n",
    "    \n",
    "    # Apply gradient descent updates\n",
    "    w1 -= learning_rate * ???\n",
    "    w2 -= learning_rate * ???\n",
    "\n",
    "    if (t + 1) % log_interval == 0:\n",
    "        print(\"Epoch {:03d}/{:03d}: loss {:.5f}\".format(\n",
    "                t + 1, n_epochs, loss[0].asscalar()))\n",
    "\n",
    "# plot\n",
    "plt.figure()\n",
    "plt.plot(losses, label=\"loss\")\n",
    "plt.legend()\n",
    "plt.show()\n"
   ]
  },
  {
   "cell_type": "code",
   "execution_count": null,
   "metadata": {
    "collapsed": true
   },
   "outputs": [],
   "source": []
  }
 ],
 "metadata": {
  "anaconda-cloud": {},
  "hide_input": false,
  "kernelspec": {
   "display_name": "Python 3",
   "language": "python",
   "name": "python3"
  },
  "language_info": {
   "codemirror_mode": {
    "name": "ipython",
    "version": 3
   },
   "file_extension": ".py",
   "mimetype": "text/x-python",
   "name": "python",
   "nbconvert_exporter": "python",
   "pygments_lexer": "ipython3",
   "version": "3.5.3"
  }
 },
 "nbformat": 4,
 "nbformat_minor": 1
}
